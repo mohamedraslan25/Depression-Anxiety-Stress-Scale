{
 "cells": [
  {
   "cell_type": "code",
   "execution_count": 34,
   "metadata": {},
   "outputs": [],
   "source": [
    "import pandas as pd\n",
    "import numpy as np\n",
    "import matplotlib.pyplot as plt\n",
    "import seaborn as sns"
   ]
  },
  {
   "cell_type": "code",
   "execution_count": 35,
   "metadata": {},
   "outputs": [],
   "source": [
    "def calculate_iqr(data):\n",
    "    if not data:\n",
    "        raise ValueError(\"Data list cannot be empty\")\n",
    "    data = np.array(data)\n",
    "    Q1 = np.percentile(data, 25)\n",
    "    Q2 = np.percentile(data, 50)\n",
    "    Q3 = np.percentile(data, 75)\n",
    "    IQR = Q3 - Q1\n",
    "    lower_bound = Q1 - 1.5 * IQR\n",
    "    upper_bound = Q3 + 1.5 * IQR\n",
    "    outliers = [x for x in data if x < lower_bound or x > upper_bound]\n",
    "    return IQR, lower_bound, upper_bound, outliers, Q1, Q2, Q3"
   ]
  },
  {
   "cell_type": "code",
   "execution_count": 36,
   "metadata": {},
   "outputs": [],
   "source": [
    "def remove_outliers(data, lower_bound, upper_bound):\n",
    "    return [x for x in data if lower_bound <= x <= upper_bound]"
   ]
  },
  {
   "cell_type": "code",
   "execution_count": 37,
   "metadata": {},
   "outputs": [],
   "source": [
    "df = [-1,-2,-3,-1,-14,0,1,2,5,6,8,7,4,3,2,15]"
   ]
  },
  {
   "cell_type": "code",
   "execution_count": 38,
   "metadata": {},
   "outputs": [],
   "source": [
    "data, Q1, Q2, Q3, IQR, lower_bound, upper_bound, outliers = calculate_IQR(df)"
   ]
  },
  {
   "cell_type": "code",
   "execution_count": 39,
   "metadata": {},
   "outputs": [
    {
     "name": "stdout",
     "output_type": "stream",
     "text": [
      "Data: [ -1  -2  -3  -1 -14   0   1   2   5   6   8   7   4   3   2  15]\n",
      "Q1: -1.0\n",
      "Q2: 2.0\n",
      "Q3: 5.25\n",
      "IQR: 6.25\n",
      "lower bound: -10.375\n",
      "upper bound: 14.625\n",
      "outliers: [-14, 15]\n"
     ]
    }
   ],
   "source": [
    "print(f'Data: {data}')\n",
    "print(f'Q1: {Q1}')\n",
    "print(f'Q2: {Q2}')\n",
    "print(f'Q3: {Q3}')\n",
    "print(f'IQR: {IQR}')\n",
    "print(f'lower bound: {lower_bound}')\n",
    "print(f'upper bound: {upper_bound}')\n",
    "print(f'outliers: {outliers}')"
   ]
  },
  {
   "cell_type": "code",
   "execution_count": 40,
   "metadata": {},
   "outputs": [],
   "source": [
    "cleaned_data = remove_outliers(data, lower_bound, upper_bound)"
   ]
  },
  {
   "cell_type": "code",
   "execution_count": 41,
   "metadata": {},
   "outputs": [],
   "source": [
    "cleaned_data = remove_outliers(data, lower_bound, upper_bound)"
   ]
  },
  {
   "cell_type": "code",
   "execution_count": 42,
   "metadata": {},
   "outputs": [
    {
     "data": {
      "text/plain": [
       "[-1, -2, -3, -1, 0, 1, 2, 5, 6, 8, 7, 4, 3, 2]"
      ]
     },
     "execution_count": 42,
     "metadata": {},
     "output_type": "execute_result"
    }
   ],
   "source": [
    "cleaned_data"
   ]
  },
  {
   "cell_type": "code",
   "execution_count": 53,
   "metadata": {},
   "outputs": [],
   "source": [
    "not_outliers = {'Data': data, 'Type': 'not Outliers'}\n",
    "outliers = {'Data': outliers, 'Type': ' Outliers'}"
   ]
  },
  {
   "cell_type": "code",
   "execution_count": 57,
   "metadata": {},
   "outputs": [],
   "source": [
    "not_outliers = pd.DataFrame(not_outliers)\n",
    "outliers = pd.DataFrame(outliers)"
   ]
  },
  {
   "cell_type": "code",
   "execution_count": 58,
   "metadata": {},
   "outputs": [
    {
     "data": {
      "text/html": [
       "<div>\n",
       "<style scoped>\n",
       "    .dataframe tbody tr th:only-of-type {\n",
       "        vertical-align: middle;\n",
       "    }\n",
       "\n",
       "    .dataframe tbody tr th {\n",
       "        vertical-align: top;\n",
       "    }\n",
       "\n",
       "    .dataframe thead th {\n",
       "        text-align: right;\n",
       "    }\n",
       "</style>\n",
       "<table border=\"1\" class=\"dataframe\">\n",
       "  <thead>\n",
       "    <tr style=\"text-align: right;\">\n",
       "      <th></th>\n",
       "      <th>Data</th>\n",
       "      <th>Type</th>\n",
       "    </tr>\n",
       "  </thead>\n",
       "  <tbody>\n",
       "    <tr>\n",
       "      <th>0</th>\n",
       "      <td>-14</td>\n",
       "      <td>Outliers</td>\n",
       "    </tr>\n",
       "    <tr>\n",
       "      <th>1</th>\n",
       "      <td>15</td>\n",
       "      <td>Outliers</td>\n",
       "    </tr>\n",
       "  </tbody>\n",
       "</table>\n",
       "</div>"
      ],
      "text/plain": [
       "   Data       Type\n",
       "0   -14   Outliers\n",
       "1    15   Outliers"
      ]
     },
     "execution_count": 58,
     "metadata": {},
     "output_type": "execute_result"
    }
   ],
   "source": [
    "outliers"
   ]
  },
  {
   "cell_type": "code",
   "execution_count": 59,
   "metadata": {},
   "outputs": [],
   "source": [
    "df = pd.concat([not_outliers, outliers], ignore_index=True)"
   ]
  },
  {
   "cell_type": "code",
   "execution_count": 60,
   "metadata": {},
   "outputs": [
    {
     "data": {
      "text/html": [
       "<div>\n",
       "<style scoped>\n",
       "    .dataframe tbody tr th:only-of-type {\n",
       "        vertical-align: middle;\n",
       "    }\n",
       "\n",
       "    .dataframe tbody tr th {\n",
       "        vertical-align: top;\n",
       "    }\n",
       "\n",
       "    .dataframe thead th {\n",
       "        text-align: right;\n",
       "    }\n",
       "</style>\n",
       "<table border=\"1\" class=\"dataframe\">\n",
       "  <thead>\n",
       "    <tr style=\"text-align: right;\">\n",
       "      <th></th>\n",
       "      <th>Data</th>\n",
       "      <th>Type</th>\n",
       "    </tr>\n",
       "  </thead>\n",
       "  <tbody>\n",
       "    <tr>\n",
       "      <th>0</th>\n",
       "      <td>-1</td>\n",
       "      <td>not Outliers</td>\n",
       "    </tr>\n",
       "    <tr>\n",
       "      <th>1</th>\n",
       "      <td>-2</td>\n",
       "      <td>not Outliers</td>\n",
       "    </tr>\n",
       "    <tr>\n",
       "      <th>2</th>\n",
       "      <td>-3</td>\n",
       "      <td>not Outliers</td>\n",
       "    </tr>\n",
       "    <tr>\n",
       "      <th>3</th>\n",
       "      <td>-1</td>\n",
       "      <td>not Outliers</td>\n",
       "    </tr>\n",
       "    <tr>\n",
       "      <th>4</th>\n",
       "      <td>-14</td>\n",
       "      <td>not Outliers</td>\n",
       "    </tr>\n",
       "    <tr>\n",
       "      <th>5</th>\n",
       "      <td>0</td>\n",
       "      <td>not Outliers</td>\n",
       "    </tr>\n",
       "    <tr>\n",
       "      <th>6</th>\n",
       "      <td>1</td>\n",
       "      <td>not Outliers</td>\n",
       "    </tr>\n",
       "    <tr>\n",
       "      <th>7</th>\n",
       "      <td>2</td>\n",
       "      <td>not Outliers</td>\n",
       "    </tr>\n",
       "    <tr>\n",
       "      <th>8</th>\n",
       "      <td>5</td>\n",
       "      <td>not Outliers</td>\n",
       "    </tr>\n",
       "    <tr>\n",
       "      <th>9</th>\n",
       "      <td>6</td>\n",
       "      <td>not Outliers</td>\n",
       "    </tr>\n",
       "    <tr>\n",
       "      <th>10</th>\n",
       "      <td>8</td>\n",
       "      <td>not Outliers</td>\n",
       "    </tr>\n",
       "    <tr>\n",
       "      <th>11</th>\n",
       "      <td>7</td>\n",
       "      <td>not Outliers</td>\n",
       "    </tr>\n",
       "    <tr>\n",
       "      <th>12</th>\n",
       "      <td>4</td>\n",
       "      <td>not Outliers</td>\n",
       "    </tr>\n",
       "    <tr>\n",
       "      <th>13</th>\n",
       "      <td>3</td>\n",
       "      <td>not Outliers</td>\n",
       "    </tr>\n",
       "    <tr>\n",
       "      <th>14</th>\n",
       "      <td>2</td>\n",
       "      <td>not Outliers</td>\n",
       "    </tr>\n",
       "    <tr>\n",
       "      <th>15</th>\n",
       "      <td>15</td>\n",
       "      <td>not Outliers</td>\n",
       "    </tr>\n",
       "    <tr>\n",
       "      <th>16</th>\n",
       "      <td>-14</td>\n",
       "      <td>Outliers</td>\n",
       "    </tr>\n",
       "    <tr>\n",
       "      <th>17</th>\n",
       "      <td>15</td>\n",
       "      <td>Outliers</td>\n",
       "    </tr>\n",
       "  </tbody>\n",
       "</table>\n",
       "</div>"
      ],
      "text/plain": [
       "    Data          Type\n",
       "0     -1  not Outliers\n",
       "1     -2  not Outliers\n",
       "2     -3  not Outliers\n",
       "3     -1  not Outliers\n",
       "4    -14  not Outliers\n",
       "5      0  not Outliers\n",
       "6      1  not Outliers\n",
       "7      2  not Outliers\n",
       "8      5  not Outliers\n",
       "9      6  not Outliers\n",
       "10     8  not Outliers\n",
       "11     7  not Outliers\n",
       "12     4  not Outliers\n",
       "13     3  not Outliers\n",
       "14     2  not Outliers\n",
       "15    15  not Outliers\n",
       "16   -14      Outliers\n",
       "17    15      Outliers"
      ]
     },
     "execution_count": 60,
     "metadata": {},
     "output_type": "execute_result"
    }
   ],
   "source": [
    "df"
   ]
  },
  {
   "cell_type": "code",
   "execution_count": 61,
   "metadata": {},
   "outputs": [
    {
     "data": {
      "image/png": "[encoded data removed]",
      "text/plain": [
       "<Figure size 1008x576 with 1 Axes>"
      ]
     },
     "metadata": {},
     "output_type": "display_data"
    }
   ],
   "source": [
    "\n",
    "plt.figure(figsize=(14, 8))\n",
    "sns.set(style=\"whitegrid\")\n",
    "palette = sns.color_palette(\"Set2\")\n",
    "\n",
    "ax = sns.boxplot(x='Type', y='Data', data=df, palette=palette)\n",
    "\n",
    "ax.set_title('Box Plot Comparison', fontsize=20, pad=20)\n",
    "ax.set_xlabel('Data Type', fontsize=15, labelpad=15)\n",
    "ax.set_ylabel('Values', fontsize=15, labelpad=15)\n",
    "\n",
    "for i, type_label in enumerate(['With Outliers', 'Without Outliers']):\n",
    "    y = [Q1, Q2, Q3]\n",
    "    for j, value in enumerate(y):\n",
    "        ax.text(i, value, f'Q{j+1}: {value:.2f}', \n",
    "                horizontalalignment='center', \n",
    "                verticalalignment='center',\n",
    "                fontsize=12,\n",
    "                color='black',\n",
    "                bbox=dict(facecolor='white', edgecolor='black', boxstyle='round,pad=0.5'))\n",
    "\n",
    "sns.despine(offset=10, trim=True)\n",
    "ax.grid(True, linestyle='--', alpha=0.7)\n",
    "\n",
    "plt.tight_layout()\n",
    "plt.show()"
   ]
  },
  {
   "cell_type": "code",
   "execution_count": 48,
   "metadata": {},
   "outputs": [
    {
     "name": "stdout",
     "output_type": "stream",
     "text": [
      "The interquartile range (IQR) is: 6.25\n",
      "The lower bound for outliers is: -10.375\n",
      "The upper bound for outliers is: 14.625\n",
      "The outliers are: [-14, 15]\n"
     ]
    },
    {
     "data": {
      "image/png": "[encoded data removed]",
      "text/plain": [
       "<Figure size 1008x576 with 1 Axes>"
      ]
     },
     "metadata": {},
     "output_type": "display_data"
    }
   ],
   "source": [
    "import numpy as np\n",
    "import matplotlib.pyplot as plt\n",
    "import seaborn as sns\n",
    "import pandas as pd\n",
    "\n",
    "\n",
    "\n",
    "\n",
    "\n",
    "# Example data\n",
    "data = [-1,-2,-3,-1,-14,0,1,2,5,6,8,7,4,3,2,15]\n",
    "\n",
    "# Calculate IQR and identify outliers\n",
    "iqr, lower_bound, upper_bound, outliers, Q1, median, Q3 = calculate_iqr(data)\n",
    "print(\"The interquartile range (IQR) is:\", iqr)\n",
    "print(\"The lower bound for outliers is:\", lower_bound)\n",
    "print(\"The upper bound for outliers is:\", upper_bound)\n",
    "print(\"The outliers are:\", outliers)\n",
    "\n",
    "# Remove outliers from the dataset\n",
    "cleaned_data = remove_outliers(data, lower_bound, upper_bound)\n",
    "\n",
    "# Prepare data for plotting\n",
    "data_with_outliers = {'Data': data, 'Type': 'With Outliers'}\n",
    "data_without_outliers = {'Data': cleaned_data, 'Type': 'Without Outliers'}\n",
    "\n",
    "df_with_outliers = pd.DataFrame(data_with_outliers)\n",
    "df_without_outliers = pd.DataFrame(data_without_outliers)\n",
    "df = pd.concat([df_with_outliers, df_without_outliers], ignore_index=True)\n",
    "\n",
    "# Plot box plots\n",
    "plt.figure(figsize=(14, 8))\n",
    "sns.set(style=\"whitegrid\")\n",
    "palette = sns.color_palette(\"Set2\")\n",
    "\n",
    "ax = sns.boxplot(x='Type', y='Data', data=df, palette=palette)\n",
    "\n",
    "# Add titles and labels\n",
    "ax.set_title('Box Plot Comparison', fontsize=20, pad=20)\n",
    "ax.set_xlabel('Data Type', fontsize=15, labelpad=15)\n",
    "ax.set_ylabel('Values', fontsize=15, labelpad=15)\n",
    "\n",
    "# Annotate Q1, Q2, Q3\n",
    "for i, type_label in enumerate(['With Outliers', 'Without Outliers']):\n",
    "    y = [Q1, median, Q3]\n",
    "    for j, value in enumerate(y):\n",
    "        ax.text(i, value, f'Q{j+1}: {value:.2f}', \n",
    "                horizontalalignment='center', \n",
    "                verticalalignment='center',\n",
    "                fontsize=12,\n",
    "                color='black',\n",
    "                bbox=dict(facecolor='white', edgecolor='black', boxstyle='round,pad=0.5'))\n",
    "\n",
    "# Customize the appearance\n",
    "sns.despine(offset=10, trim=True)\n",
    "ax.grid(True, linestyle='--', alpha=0.7)\n",
    "\n",
    "# Show plot\n",
    "plt.tight_layout()\n",
    "plt.show()\n"
   ]
  },
  {
   "cell_type": "code",
   "execution_count": null,
   "metadata": {},
   "outputs": [],
   "source": []
  }
 ],
 "metadata": {
  "kernelspec": {
   "display_name": "base",
   "language": "python",
   "name": "python3"
  },
  "language_info": {
   "codemirror_mode": {
    "name": "ipython",
    "version": 3
   },
   "file_extension": ".py",
   "mimetype": "text/x-python",
   "name": "python",
   "nbconvert_exporter": "python",
   "pygments_lexer": "ipython3",
   "version": "3.9.12"
  }
 },
 "nbformat": 4,
 "nbformat_minor": 2
}
